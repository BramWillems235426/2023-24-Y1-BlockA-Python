{
 "cells": [
  {
   "attachments": {},
   "cell_type": "markdown",
   "metadata": {},
   "source": [
    "# 11. Algorithms"
   ]
  },
  {
   "attachments": {},
   "cell_type": "markdown",
   "metadata": {},
   "source": [
    "Implement linear search and binary search, as explained in the online course.\n",
    "\n",
    "Let's first create an ordered list\n",
    "\n",
    "```numbers = [1, 2, 3, 4, ..., 100]```"
   ]
  },
  {
   "cell_type": "code",
   "execution_count": null,
   "metadata": {},
   "outputs": [],
   "source": [
    "numbers = []\n",
    "for i in range(1, 101):\n",
    "    numbers.append(i)"
   ]
  },
  {
   "attachments": {},
   "cell_type": "markdown",
   "metadata": {},
   "source": [
    "**Exercise 11.1**\n",
    "\n",
    "Write a function called `linear_search` that implements the linear search algorithm.\n",
    "\n",
    "The function takes two parameters:\n",
    "\n",
    "1. `numbers`: a list of unique integers, sorted from smallest to largest.\n",
    "2. `target`: an integer that is being searched in the list `numbers`\n",
    "\n",
    "If `target` is in `numbers`, the function should return the index of the `target`, otherwise `None`.\n",
    "\n",
    "Do not use Python's built-in `index` method.\n",
    "\n",
    "Example input/output pairs:\n",
    "\n",
    "- linear_search(numbers, 30) -> 29\n",
    "- linear_search(numbers, 300) -> `None`"
   ]
  },
  {
   "cell_type": "code",
   "execution_count": null,
   "metadata": {},
   "outputs": [],
   "source": [
    "# YOUR CODE HERE"
   ]
  },
  {
   "attachments": {},
   "cell_type": "markdown",
   "metadata": {},
   "source": [
    "**Exercise 11.2**\n",
    "\n",
    "Write a function called `binary_search` that implements the binary search algorithm.\n",
    "\n",
    "The function takes two parameters:\n",
    "\n",
    "1. `numbers`: a list of unique integers, sorted from smallest to largest.\n",
    "2. `target`: an integer that is being searched in the list `numbers`\n",
    "\n",
    "If `target` is in `numbers`, the function should return the index of the `target`, otherwise `None`.\n",
    "\n",
    "Do not use Python's built-in `index` method.\n",
    "\n",
    "Example input/output pairs:\n",
    "\n",
    "- linear_search(numbers, 30) -> 29\n",
    "- linear_search(numbers, 300) -> `None`\n",
    "\n",
    "Note that these two algorithms are solving the same search problem, therefore their requirements are the same. But binary search is faster."
   ]
  },
  {
   "cell_type": "code",
   "execution_count": null,
   "metadata": {},
   "outputs": [],
   "source": [
    "# YOUR CODE HERE"
   ]
  }
 ],
 "metadata": {
  "kernelspec": {
   "display_name": "ml",
   "language": "python",
   "name": "python3"
  },
  "language_info": {
   "codemirror_mode": {
    "name": "ipython",
    "version": 3
   },
   "file_extension": ".py",
   "mimetype": "text/x-python",
   "name": "python",
   "nbconvert_exporter": "python",
   "pygments_lexer": "ipython3",
   "version": "3.8.16"
  },
  "orig_nbformat": 4
 },
 "nbformat": 4,
 "nbformat_minor": 2
}
